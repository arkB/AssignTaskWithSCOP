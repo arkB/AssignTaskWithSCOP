{
 "cells": [
  {
   "cell_type": "code",
   "execution_count": 1,
   "metadata": {},
   "outputs": [],
   "source": [
    "from scop import *\n",
    "model = Model()"
   ]
  },
  {
   "cell_type": "code",
   "execution_count": 2,
   "metadata": {},
   "outputs": [],
   "source": [
    "workers=['A','B','C']\n",
    "Cost=[[15, 20, 30],\n",
    "      [7, 15, 12],\n",
    "      [25, 10, 13]]"
   ]
  },
  {
   "cell_type": "code",
   "execution_count": 3,
   "metadata": {},
   "outputs": [],
   "source": [
    "x=model.addVariables(workers,range(3))"
   ]
  },
  {
   "cell_type": "code",
   "execution_count": 4,
   "metadata": {},
   "outputs": [],
   "source": [
    "con1=Alldiff('all_diff_constraint', x, 'inf')"
   ]
  },
  {
   "cell_type": "code",
   "execution_count": 5,
   "metadata": {
    "scrolled": true
   },
   "outputs": [],
   "source": [
    "con2=Linear('linear_constraint')\n",
    "for i in range(len(workers)):\n",
    "    for j in range(3):\n",
    "        con2.addTerms(Cost[i][j], x[i], j)\n",
    "con2.setRhs(0)"
   ]
  },
  {
   "cell_type": "code",
   "execution_count": 6,
   "metadata": {},
   "outputs": [
    {
     "name": "stdout",
     "output_type": "stream",
     "text": [
      "\n",
      " ================ Now solving the problem ================ \n",
      "\n"
     ]
    }
   ],
   "source": [
    "model.addConstraint(con1)\n",
    "model.addConstraint(con2)\n",
    "model.Params.TimeLimit=1\n",
    "sol,violated=model.optimize()"
   ]
  },
  {
   "cell_type": "code",
   "execution_count": 7,
   "metadata": {},
   "outputs": [
    {
     "name": "stdout",
     "output_type": "stream",
     "text": [
      "Model: \n",
      "number of variables = 3  \n",
      "number of constraints= 2  \n",
      "variable A:['0', '1', '2'] = 0 \n",
      "variable B:['0', '1', '2'] = 2 \n",
      "variable C:['0', '1', '2'] = 1 \n",
      "all_diff_constraint: weight= inf type=alldiff  C B A ;  :LHS =0  \n",
      "linear_constraint: weight= 1 type=linear 15(A,0) 20(A,1) 30(A,2) 7(B,0) 15(B,1) 12(B,2) 25(C,0) 10(C,1) 13(C,2) <=0 :LHS =37 \n"
     ]
    }
   ],
   "source": [
    "print(model)"
   ]
  },
  {
   "cell_type": "code",
   "execution_count": null,
   "metadata": {},
   "outputs": [],
   "source": []
  },
  {
   "cell_type": "code",
   "execution_count": null,
   "metadata": {},
   "outputs": [],
   "source": []
  },
  {
   "cell_type": "code",
   "execution_count": null,
   "metadata": {},
   "outputs": [],
   "source": []
  }
 ],
 "metadata": {
  "kernelspec": {
   "display_name": "Python 3",
   "language": "python",
   "name": "python3"
  },
  "language_info": {
   "codemirror_mode": {
    "name": "ipython",
    "version": 3
   },
   "file_extension": ".py",
   "mimetype": "text/x-python",
   "name": "python",
   "nbconvert_exporter": "python",
   "pygments_lexer": "ipython3",
   "version": "3.6.4"
  }
 },
 "nbformat": 4,
 "nbformat_minor": 2
}
